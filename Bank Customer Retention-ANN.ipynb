{
  "cells": [
    {
      "metadata": {
        "_uuid": "8f2839f25d086af736a60e9eeb907d3b93b6e0e5",
        "_cell_guid": "b1076dfc-b9ad-4769-8c92-a6c4dae69d19",
        "trusted": true
      },
      "cell_type": "code",
      "source": "import numpy as np # linear algebra\nimport pandas as pd # data processing, CSV file I/O (e.g. pd.read_csv)\nimport matplotlib.pyplot as plt\n\nimport os\nprint(os.listdir(\"../input\"))",
      "execution_count": null,
      "outputs": []
    },
    {
      "metadata": {
        "_cell_guid": "79c7e3d0-c299-4dcb-8224-4455121ee9b0",
        "_uuid": "d629ff2d2480ee46fbb7e2d37f6b5fab8052498a",
        "trusted": true
      },
      "cell_type": "code",
      "source": "dataset = pd.read_csv('../input/Churn_Modelling.csv')\n#Theano is numerical computation library\n# Before to start a preprocessing the data I have to import the dataset in the variables.\n\nX = dataset.iloc[:, 3:13].values\ny = dataset.iloc[:, 13].values\n\n# I put in \"X\" the variable independents and in \"y\" the variable dependent.\n# Notes that I didn't included \"RowNumber\", \"CustomerId\" and \"Surname\", because none of them is relevant for my model.",
      "execution_count": null,
      "outputs": []
    },
    {
      "metadata": {
        "trusted": true,
        "_uuid": "22641d9f3cfe8f7d96aa0dff0f58a6114ff085b7"
      },
      "cell_type": "code",
      "source": "# As we can see above there are some columns with categorical values.\n# Now I will encoding them.\n# Let's start to preprocessing our dataset.\n\nfrom sklearn.preprocessing import LabelEncoder, OneHotEncoder\nlabelencoder_X_1 = LabelEncoder()\n# X_1 refers to \"Geography\" column.\nX[:, 1] = labelencoder_X_1.fit_transform(X[:, 1])\nlabelencoder_X_2 = LabelEncoder()\n# X_2 refers to \"Gender\" column.\nX[:, 2] = labelencoder_X_2.fit_transform(X[:, 2])\nonehotencoder = OneHotEncoder(categorical_features = [1])\nX = onehotencoder.fit_transform(X).toarray()\nX = X[:,1:]",
      "execution_count": null,
      "outputs": []
    },
    {
      "metadata": {
        "trusted": true,
        "_uuid": "91be6e0ab105e215283d3b1a9db0f39829e8a8ef"
      },
      "cell_type": "code",
      "source": "#Splitting Data \nfrom sklearn.model_selection import train_test_split\nX_train, X_test, y_train, y_test = train_test_split(X, y, test_size = 0.20, random_state = 0)\n\n#StandardScaler Variable\nfrom sklearn.preprocessing import StandardScaler\nsc=StandardScaler()\nX_train=sc.fit_transform(X_train)\nX_test=sc.transform(X_test)",
      "execution_count": null,
      "outputs": []
    },
    {
      "metadata": {
        "trusted": true,
        "_uuid": "95e217732094f960da6a4ecaaa3cc94560157cd5"
      },
      "cell_type": "code",
      "source": "#Let's Create our ANN\nfrom keras.models import Sequential\nfrom keras.layers import Dense\n\nmodel = Sequential()\n# Adding the first hidden layer\nmodel.add(Dense(input_dim=11,output_dim=6,init='uniform',activation='relu'))\n# Adding the second hidden layer\nmodel.add(Dense(output_dim=6,init='uniform',activation='relu'))\n# Adding the output hidden layer\nmodel.add(Dense(output_dim=1,init='uniform',activation='sigmoid'))\n\n# Compiling The Model\nmodel.compile(optimizer='adam',loss='binary_crossentropy',metrics=['accuracy'])\nmodel.fit(X_train, y_train, batch_size = 10, nb_epoch = 10)",
      "execution_count": null,
      "outputs": []
    },
    {
      "metadata": {
        "trusted": true,
        "_uuid": "bd407d8c77c58101d45c99e989490c06821c5798"
      },
      "cell_type": "code",
      "source": "y_pred = model.predict(X_test)\ny_pred = (y_pred > 0.50)\n\n# Making the Confusion Matrix\nfrom sklearn.metrics import confusion_matrix,accuracy_score\ncm = confusion_matrix(y_test, y_pred)\nprint(accuracy_score(y_test,y_pred)*100,'%')",
      "execution_count": null,
      "outputs": []
    }
  ],
  "metadata": {
    "kernelspec": {
      "display_name": "Python 3",
      "language": "python",
      "name": "python3"
    },
    "language_info": {
      "name": "python",
      "version": "3.6.6",
      "mimetype": "text/x-python",
      "codemirror_mode": {
        "name": "ipython",
        "version": 3
      },
      "pygments_lexer": "ipython3",
      "nbconvert_exporter": "python",
      "file_extension": ".py"
    }
  },
  "nbformat": 4,
  "nbformat_minor": 1
}